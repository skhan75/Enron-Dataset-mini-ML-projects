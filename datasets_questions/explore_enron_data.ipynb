{
 "cells": [
  {
   "cell_type": "code",
   "execution_count": 41,
   "metadata": {
    "collapsed": true
   },
   "outputs": [],
   "source": [
    "import pickle\n",
    "from pprint import pprint"
   ]
  },
  {
   "cell_type": "code",
   "execution_count": 42,
   "metadata": {
    "collapsed": true
   },
   "outputs": [],
   "source": [
    "enron_data = pickle.load(open(\"../final_project/final_project_dataset.pkl\", \"r\"))"
   ]
  },
  {
   "cell_type": "code",
   "execution_count": 43,
   "metadata": {
    "collapsed": false
   },
   "outputs": [
    {
     "name": "stdout",
     "output_type": "stream",
     "text": [
      "No. of datapoints in enron_data:  146\n"
     ]
    }
   ],
   "source": [
    "print 'No. of datapoints in enron_data: ',len(enron_data)"
   ]
  },
  {
   "cell_type": "code",
   "execution_count": 44,
   "metadata": {
    "collapsed": false
   },
   "outputs": [
    {
     "name": "stdout",
     "output_type": "stream",
     "text": [
      "Number of features for a specific person in the data:  21\n"
     ]
    }
   ],
   "source": [
    "print 'Number of features for a specific person in the data: ',len(enron_data[\"ELLIOTT STEVEN\"])"
   ]
  },
  {
   "cell_type": "code",
   "execution_count": 46,
   "metadata": {
    "collapsed": false
   },
   "outputs": [
    {
     "name": "stdout",
     "output_type": "stream",
     "text": [
      "{'bonus': 5600000,\n",
      " 'deferral_payments': 'NaN',\n",
      " 'deferred_income': 'NaN',\n",
      " 'director_fees': 'NaN',\n",
      " 'email_address': 'jeff.skilling@enron.com',\n",
      " 'exercised_stock_options': 19250000,\n",
      " 'expenses': 29336,\n",
      " 'from_messages': 108,\n",
      " 'from_poi_to_this_person': 88,\n",
      " 'from_this_person_to_poi': 30,\n",
      " 'loan_advances': 'NaN',\n",
      " 'long_term_incentive': 1920000,\n",
      " 'other': 22122,\n",
      " 'poi': True,\n",
      " 'restricted_stock': 6843672,\n",
      " 'restricted_stock_deferred': 'NaN',\n",
      " 'salary': 1111258,\n",
      " 'shared_receipt_with_poi': 2042,\n",
      " 'to_messages': 3627,\n",
      " 'total_payments': 8682716,\n",
      " 'total_stock_value': 26093672}\n"
     ]
    }
   ],
   "source": [
    "pprint (enron_data[\"SKILLING JEFFREY K\"])"
   ]
  },
  {
   "cell_type": "code",
   "execution_count": 67,
   "metadata": {
    "collapsed": false
   },
   "outputs": [],
   "source": [
    "no_poi = 0\n",
    "max_pay = 0\n",
    "no_sal = 0\n",
    "no_email = 0\n",
    "\n",
    "for e in enron_data:\n",
    "    if enron_data[e][\"poi\"] == True:\n",
    "        no_poi += 1\n",
    "        \n",
    "    if e == \"SKILLING JEFFREY K\" or e == \"LAY KENNETH L\" or e == \"FASTOW ANDREW S\":\n",
    "        if max_pay < enron_data[e][\"total_payments\"]:\n",
    "            max_pay = enron_data[e][\"total_payments\"]\n",
    "            max_payee = e\n",
    "            \n",
    "    if enron_data[e][\"salary\"] != 'NaN':\n",
    "        no_sal += 1\n",
    "    if enron_data[e][\"email_address\"]!= 'NaN': \n",
    "        no_email += 1"
   ]
  },
  {
   "cell_type": "code",
   "execution_count": 68,
   "metadata": {
    "collapsed": false
   },
   "outputs": [
    {
     "name": "stdout",
     "output_type": "stream",
     "text": [
      "Number of POI in E+F:  18\n"
     ]
    }
   ],
   "source": [
    "print 'Number of POI in E+F: ', no_poi"
   ]
  },
  {
   "cell_type": "code",
   "execution_count": 69,
   "metadata": {
    "collapsed": false
   },
   "outputs": [
    {
     "name": "stdout",
     "output_type": "stream",
     "text": [
      "Total value of the stock belonging to James Prentice 1095040\n"
     ]
    }
   ],
   "source": [
    " print 'Total value of the stock belonging to James Prentice',enron_data[\"PRENTICE JAMES\"][\"total_stock_value\"]"
   ]
  },
  {
   "cell_type": "code",
   "execution_count": 70,
   "metadata": {
    "collapsed": false
   },
   "outputs": [
    {
     "name": "stdout",
     "output_type": "stream",
     "text": [
      "Email messages do we have from Wesley Colwell to persons of interest:  11\n"
     ]
    }
   ],
   "source": [
    "print 'Email messages do we have from Wesley Colwell to persons of interest: ', enron_data[\"COLWELL WESLEY\"][\"from_this_person_to_poi\"]"
   ]
  },
  {
   "cell_type": "code",
   "execution_count": 71,
   "metadata": {
    "collapsed": false
   },
   "outputs": [
    {
     "name": "stdout",
     "output_type": "stream",
     "text": [
      "Value of stock options exercised by Jeffrey K Skilling:  19250000\n"
     ]
    }
   ],
   "source": [
    "print 'Value of stock options exercised by Jeffrey K Skilling: ', enron_data[\"SKILLING JEFFREY K\"][\"exercised_stock_options\"]"
   ]
  },
  {
   "cell_type": "code",
   "execution_count": 72,
   "metadata": {
    "collapsed": false
   },
   "outputs": [
    {
     "name": "stdout",
     "output_type": "stream",
     "text": [
      "Of these three individuals (Lay, Skilling and Fastow), who took home the most money? LAY KENNETH L 103559793\n"
     ]
    }
   ],
   "source": [
    "\n",
    "print 'Of these three individuals (Lay, Skilling and Fastow), who took home the most money?', max_payee, max_pay"
   ]
  },
  {
   "cell_type": "code",
   "execution_count": 77,
   "metadata": {
    "collapsed": false
   },
   "outputs": [
    {
     "name": "stdout",
     "output_type": "stream",
     "text": [
      "No. of folks in this dataset have a quantified salary:  95\n"
     ]
    }
   ],
   "source": [
    "print 'No. of folks in this dataset have a quantified salary: ',no_sal"
   ]
  },
  {
   "cell_type": "code",
   "execution_count": 78,
   "metadata": {
    "collapsed": false
   },
   "outputs": [
    {
     "name": "stdout",
     "output_type": "stream",
     "text": [
      "No. of folks in this dataset that have a known email address:  111\n"
     ]
    }
   ],
   "source": [
    "print 'No. of folks in this dataset that have a known email address: ',no_email"
   ]
  },
  {
   "cell_type": "code",
   "execution_count": null,
   "metadata": {
    "collapsed": true
   },
   "outputs": [],
   "source": []
  }
 ],
 "metadata": {
  "kernelspec": {
   "display_name": "Python 2",
   "language": "python",
   "name": "python2"
  },
  "language_info": {
   "codemirror_mode": {
    "name": "ipython",
    "version": 2
   },
   "file_extension": ".py",
   "mimetype": "text/x-python",
   "name": "python",
   "nbconvert_exporter": "python",
   "pygments_lexer": "ipython2",
   "version": "2.7.13"
  }
 },
 "nbformat": 4,
 "nbformat_minor": 2
}
